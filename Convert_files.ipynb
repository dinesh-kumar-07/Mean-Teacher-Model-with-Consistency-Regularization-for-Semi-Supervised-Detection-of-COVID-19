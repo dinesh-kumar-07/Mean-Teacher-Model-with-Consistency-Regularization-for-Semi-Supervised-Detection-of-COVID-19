{
 "cells": [
  {
   "cell_type": "code",
   "execution_count": 1,
   "metadata": {},
   "outputs": [],
   "source": [
    "import numpy as np\n",
    "import pandas as pd\n",
    "import os\n",
    "import subprocess\n",
    "from pathlib import Path"
   ]
  },
  {
   "cell_type": "code",
   "execution_count": 2,
   "metadata": {},
   "outputs": [],
   "source": [
    "def convert_files(folder):\n",
    "    \"\"\"Convert files from .webm and .ogg to .wav\n",
    "    folder: path to coughvid database and metadata_compiled csv\"\"\"\n",
    "    # iterate through coughvid db\n",
    "    df = pd.read_csv(folder + 'metadata_compiled.csv')\n",
    "    names_to_convert = df.uuid.to_numpy()\n",
    "    for counter, name in enumerate(names_to_convert):\n",
    "        # if .webm file exists, convert to .wav\n",
    "        if os.path.isfile(folder + name + '.webm'):\n",
    "            subprocess.call([\"ffmpeg\", \"-i\", folder+name+\".webm\", folder+name+\".wav\"])\n",
    "        # if .ogg file exists, convert to .wav\n",
    "        elif os.path.isfile(folder + name + '.ogg'):\n",
    "            subprocess.call([\"ffmpeg\", \"-i\", folder+name+\".ogg\", folder+name+\".wav\"])\n",
    "        # if neither exists, print error\n",
    "        else:\n",
    "            print(\"Error: No file name {0}\".format(name))\n",
    "            print(\"Please check if .webm and .ogg files are in the same folder\")\n",
    "            print(\"If not, please download the files from https://zenodo.org/record/4048312#.YX6Z6ZMzZTY\")\n",
    "            print(\"and place them in the same folder as this notebook\")\n",
    "            return\n",
    "        # print progress\n",
    "        if (counter%1000 == 0):\n",
    "            print(\"Finished {0}/{1}\".format(counter,len(names_to_convert)))\n",
    "    print(\"Finished converting all files\")\n",
    "    return"
   ]
  },
  {
   "cell_type": "code",
   "execution_count": 3,
   "metadata": {},
   "outputs": [
    {
     "name": "stdout",
     "output_type": "stream",
     "text": [
      "Finished 0/20072\n",
      "Finished 1000/20072\n",
      "Finished 2000/20072\n",
      "Finished 3000/20072\n",
      "Finished 4000/20072\n",
      "Finished 5000/20072\n",
      "Finished 6000/20072\n",
      "Finished 7000/20072\n",
      "Finished 8000/20072\n",
      "Finished 9000/20072\n",
      "Finished 10000/20072\n",
      "Finished 11000/20072\n",
      "Finished 12000/20072\n",
      "Finished 13000/20072\n",
      "Finished 14000/20072\n",
      "Finished 15000/20072\n",
      "Finished 16000/20072\n",
      "Finished 17000/20072\n",
      "Finished 18000/20072\n",
      "Finished 19000/20072\n",
      "Finished 20000/20072\n",
      "Finished converting all files\n"
     ]
    }
   ],
   "source": [
    "folder = \"public_dataset/public_dataset/\"\n",
    "convert_files(folder)"
   ]
  }
 ],
 "metadata": {
  "kernelspec": {
   "display_name": "base",
   "language": "python",
   "name": "python3"
  },
  "language_info": {
   "codemirror_mode": {
    "name": "ipython",
    "version": 3
   },
   "file_extension": ".py",
   "mimetype": "text/x-python",
   "name": "python",
   "nbconvert_exporter": "python",
   "pygments_lexer": "ipython3",
   "version": "3.9.13"
  },
  "orig_nbformat": 4
 },
 "nbformat": 4,
 "nbformat_minor": 2
}
